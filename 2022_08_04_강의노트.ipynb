{
  "nbformat": 4,
  "nbformat_minor": 0,
  "metadata": {
    "colab": {
      "name": "2022-08-04 강의노트",
      "provenance": [],
      "toc_visible": true,
      "authorship_tag": "ABX9TyO9KUFpnYqj/GuskYBuKANb",
      "include_colab_link": true
    },
    "kernelspec": {
      "name": "python3",
      "display_name": "Python 3"
    },
    "language_info": {
      "name": "python"
    }
  },
  "cells": [
    {
      "cell_type": "markdown",
      "metadata": {
        "id": "view-in-github",
        "colab_type": "text"
      },
      "source": [
        "<a href=\"https://colab.research.google.com/github/kes901025/Data/blob/main/2022_08_04_%EA%B0%95%EC%9D%98%EB%85%B8%ED%8A%B8.ipynb\" target=\"_parent\"><img src=\"https://colab.research.google.com/assets/colab-badge.svg\" alt=\"Open In Colab\"/></a>"
      ]
    },
    {
      "cell_type": "markdown",
      "source": [
        "# step 1. 파이썬 기초"
      ],
      "metadata": {
        "id": "e29kTRs7aYhh"
      }
    },
    {
      "cell_type": "markdown",
      "source": [
        "## 1. 주석(Comments)\n",
        "*  코드가 아님\n",
        "*  코드에 대한 설명을 담\n",
        "*  컴퓨터가 읽지를 못 함\n",
        "* 단축키 ctrl + /"
      ],
      "metadata": {
        "id": "5a9kCxfMblmx"
      }
    },
    {
      "cell_type": "markdown",
      "source": [
        "## 2. 출력(print)\n",
        "* print()\n",
        "\n"
      ],
      "metadata": {
        "id": "EWJw_kkPdmdq"
      }
    },
    {
      "cell_type": "code",
      "source": [
        "print(\"안녕하세요~\")      # 문자 가능\n",
        "print(25)                 # 숫자 가능\n",
        "print(False)              # 참/거짓 가능"
      ],
      "metadata": {
        "colab": {
          "base_uri": "https://localhost:8080/"
        },
        "id": "jn4UzDSeez46",
        "outputId": "bf52ed74-fe70-456d-bc32-212c614f85c1"
      },
      "execution_count": 2,
      "outputs": [
        {
          "output_type": "stream",
          "name": "stdout",
          "text": [
            "안녕하세요~\n",
            "25\n",
            "False\n"
          ]
        }
      ]
    },
    {
      "cell_type": "markdown",
      "source": [
        "## 3. 변수 (Variables)\n",
        "* 프로그래밍에서 데이터를 저장하는 공간\n",
        "* menu = '피자'\n",
        "* 변수이름/ 할당/ 값"
      ],
      "metadata": {
        "id": "0KVYd12vfU_o"
      }
    },
    {
      "cell_type": "code",
      "source": [
        "text = \"엄마가 섬그늘에~\"\n",
        "\n",
        "print(text)"
      ],
      "metadata": {
        "colab": {
          "base_uri": "https://localhost:8080/"
        },
        "id": "nKc3i8nEhQ7B",
        "outputId": "eb875b49-b3cf-410b-d062-d46a3d292175"
      },
      "execution_count": 3,
      "outputs": [
        {
          "output_type": "stream",
          "name": "stdout",
          "text": [
            "엄마가 섬그늘에~\n"
          ]
        }
      ]
    },
    {
      "cell_type": "markdown",
      "source": [
        "## 4. 변수이름 짓기\n",
        "* 띄어쓰기 안됨\n",
        "* 빈칸 인식 못함\n",
        "* 대문자, 소문자, _(언더바) 사용"
      ],
      "metadata": {
        "id": "D3g670NrhkVI"
      }
    },
    {
      "cell_type": "code",
      "source": [
        "# 점심 때 먹은 음식 칼로리 계산\n",
        "\n",
        "kimbap_vegetable = 150                 # kimbap_vegetable 변수에 150을  할당 함\n",
        "\n",
        "print(\"오늘 점심 때 뭐 먹었나요?\")\n",
        "print(\"야채김밥 먹었어요.\")\n",
        "print(\"칼로리가 얼마에요?\")\n",
        "print(kimbap_vegetable, \"칼로리 입니다.\")     # kimbap_vegetable 라는 변수에 무슨 값이 있는지 보여 줌"
      ],
      "metadata": {
        "colab": {
          "base_uri": "https://localhost:8080/"
        },
        "id": "PbIoeBRYi26Y",
        "outputId": "7f84e3f0-a7e2-4b9b-a276-19ca504bb887"
      },
      "execution_count": 10,
      "outputs": [
        {
          "output_type": "stream",
          "name": "stdout",
          "text": [
            "오늘 점심 때 뭐 먹었나요?\n",
            "야채김밥 먹었어요.\n",
            "칼로리가 얼마에요?\n",
            "150 칼로리 입니다.\n"
          ]
        }
      ]
    },
    {
      "cell_type": "markdown",
      "source": [
        "### 5. 문자열 (string)\n",
        "* 컴퓨터 프로그래밍에서 텍스트를 문자열(string) 이라고 함\n",
        "* 큰 따옴표, 작은 따옴표 로 텍스트 묶음\n",
        "* 큰 따옴표 안에 작은 따옴표 넣기\n",
        "* 작은 따옴표 안에 큰 따옴표 넣기"
      ],
      "metadata": {
        "id": "ubm-mM3-ksBo"
      }
    },
    {
      "cell_type": "code",
      "source": [
        "print(\"안유진\")        # 문자열 \"안유진\" 을 출력 함"
      ],
      "metadata": {
        "colab": {
          "base_uri": "https://localhost:8080/"
        },
        "id": "_2nsnLr1lUe5",
        "outputId": "e74e9603-d1a9-476b-e982-4ea7f8af7461"
      },
      "execution_count": 11,
      "outputs": [
        {
          "output_type": "stream",
          "name": "stdout",
          "text": [
            "안유진\n"
          ]
        }
      ]
    },
    {
      "cell_type": "code",
      "source": [
        "# 대표 걸그룹 별 좋아하는 가수 소개 하기\n",
        "\n",
        "print(\"소녀시대 '임윤아'를 좋아 합니다.\")\n",
        "print('아이브 \"안유진\" 을 좋아 합니다.')\n",
        "print(\"원더걸스 안소희 를 좋아 합니다.\")\n",
        "print('트와이스 사나 를 좋아 합니다.')"
      ],
      "metadata": {
        "colab": {
          "base_uri": "https://localhost:8080/"
        },
        "id": "nmvajKKClknw",
        "outputId": "80bec159-217d-478d-9f86-a00b5704b6e9"
      },
      "execution_count": 12,
      "outputs": [
        {
          "output_type": "stream",
          "name": "stdout",
          "text": [
            "소녀시대 '임윤아'를 좋아 합니다.\n",
            "아이브 \"안유진\" 을 좋아 합니다.\n",
            "원더걸스 안소희 를 좋아 합니다.\n",
            "트와이스 사나 를 좋아 합니다.\n"
          ]
        }
      ]
    },
    {
      "cell_type": "markdown",
      "source": [
        "### 6. 숫자 (Numeric Data types)\n",
        "* int 정수형 데이터 (1, 3, 4, 7 ...)\n",
        "* flat 실수형,부동소수점 데이터 (12.3, 2.3, 12.3455 ...)\n",
        "* type() 으로 확인"
      ],
      "metadata": {
        "id": "HB81sl8Vm9BZ"
      }
    },
    {
      "cell_type": "code",
      "source": [
        "number_1 = 2        # int 정수형\n",
        "number_2 = 4.0      # flat 실수형\n",
        "\n",
        "print(\"number_1은 무슨 형 인가요?\")\n",
        "print(type(number_1))\n",
        "print(\"number_2는 무슨 형 인가요?\")\n",
        "print(type(number_2))"
      ],
      "metadata": {
        "colab": {
          "base_uri": "https://localhost:8080/"
        },
        "id": "kjF9UekYpErA",
        "outputId": "1c373af6-16d2-4bdb-93c1-1afa2923c3b4"
      },
      "execution_count": 15,
      "outputs": [
        {
          "output_type": "stream",
          "name": "stdout",
          "text": [
            "number_1은 무슨 형 인가요?\n",
            "<class 'int'>\n",
            "number_2는 무슨 형 인가요?\n",
            "<class 'float'>\n"
          ]
        }
      ]
    },
    {
      "cell_type": "markdown",
      "source": [
        "### 7. 불 (bool data types)\n",
        "* boolean\n",
        "* 참(True), 거짓(False) 을 나타내는 자료형\n",
        "* 예약어 (Reserve Words)\n",
        "* 변수, 함수로 사용 못 함"
      ],
      "metadata": {
        "id": "74xCFqlgrltX"
      }
    },
    {
      "cell_type": "code",
      "source": [
        "print(type(True))\n",
        "print(type(False))\n",
        "\n",
        "# True = 3            # 변수, 함수로 사용 안됨\n",
        "# print(True)         # SyntaxError: can't assign to keyword"
      ],
      "metadata": {
        "colab": {
          "base_uri": "https://localhost:8080/"
        },
        "id": "m4QyOHTis712",
        "outputId": "686ee5b1-2711-41fb-b933-bb78e9d463bd"
      },
      "execution_count": 21,
      "outputs": [
        {
          "output_type": "stream",
          "name": "stdout",
          "text": [
            "<class 'bool'>\n",
            "<class 'bool'>\n"
          ]
        }
      ]
    },
    {
      "cell_type": "markdown",
      "source": [
        "# step 2. 파이썬 계산"
      ],
      "metadata": {
        "id": "twiXGg7xt6wm"
      }
    },
    {
      "cell_type": "markdown",
      "source": [
        "## 1. 사칙연산\n",
        "* +(더하기), - (빼기), * (곱하기), / (나누기), % (나머지), // (몫), ** (제곱)"
      ],
      "metadata": {
        "id": "3JIwCJIXuKlu"
      }
    },
    {
      "cell_type": "code",
      "source": [
        "print(100+10)\n",
        "print(50-25)\n",
        "print(50*2)\n",
        "print(100/20)        # 실수로 반환\n",
        "print(100//20)       # 정수로 반환\n",
        "print(12%5)\n",
        "print(2**4)          # 2를 4번 곱함\n",
        "\n",
        "# print(6/0)         # 에러 남\n"
      ],
      "metadata": {
        "colab": {
          "base_uri": "https://localhost:8080/"
        },
        "id": "CqnKxqgvvIhI",
        "outputId": "4bc06bb8-f2f1-4052-cb6a-364e58ba7577"
      },
      "execution_count": 29,
      "outputs": [
        {
          "output_type": "stream",
          "name": "stdout",
          "text": [
            "110\n",
            "25\n",
            "100\n",
            "5.0\n",
            "5\n",
            "2\n",
            "16\n"
          ]
        }
      ]
    },
    {
      "cell_type": "markdown",
      "source": [
        "## 2. 문자열 더하기 (String Concatenation)\n",
        "* 문자 열끼리 더함"
      ],
      "metadata": {
        "id": "6X61ZSK1yLZe"
      }
    },
    {
      "cell_type": "code",
      "source": [
        "# 끝말 잇기\n",
        "\n",
        "word_1 = \"나비,\"\n",
        "word_2 = \"비디오,\"\n",
        "word_3 = \"오리,\"\n",
        "word_4 = \"리본,\"\n",
        "word_5 = \"본점,\"\n",
        "\n",
        "attach = word_1 + word_2 + word_3 + word_4 + word_5\n",
        "print(attach)\n"
      ],
      "metadata": {
        "colab": {
          "base_uri": "https://localhost:8080/"
        },
        "id": "6AcwTGb0y7Z-",
        "outputId": "2efd9956-1e51-4bc6-910e-94a12f8b5c67"
      },
      "execution_count": 35,
      "outputs": [
        {
          "output_type": "stream",
          "name": "stdout",
          "text": [
            "나비,비디오,오리,리본,본점,\n"
          ]
        }
      ]
    },
    {
      "cell_type": "markdown",
      "source": [
        "## 3. += 이랑 -= (Plus Equals)\n",
        "* number = number + 100\n",
        "* number += 100  \n",
        "         \n",
        "          \n",
        "* number = number - 100\n",
        "* number -= 100"
      ],
      "metadata": {
        "id": "MKvvLTBw1VCV"
      }
    },
    {
      "cell_type": "code",
      "source": [
        "# 총 급여 계산 하기\n",
        "\n",
        "sum_pay = 500\n",
        "meal = 10\n",
        "tip = 10\n",
        "\n",
        "sum_pay += tip\n",
        "print(sum_pay)\n",
        "sum_pay -= meal\n",
        "print(sum_pay)"
      ],
      "metadata": {
        "colab": {
          "base_uri": "https://localhost:8080/"
        },
        "id": "q5eE-fzm2iAY",
        "outputId": "76bd09fe-7e3c-48f7-903b-e48670df18ce"
      },
      "execution_count": 37,
      "outputs": [
        {
          "output_type": "stream",
          "name": "stdout",
          "text": [
            "510\n",
            "500\n"
          ]
        }
      ]
    },
    {
      "cell_type": "markdown",
      "source": [
        "# Step 3. 파이썬 함수"
      ],
      "metadata": {
        "id": "HPreJexg44hF"
      }
    }
  ]
}