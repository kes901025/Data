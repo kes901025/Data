{
  "nbformat": 4,
  "nbformat_minor": 0,
  "metadata": {
    "colab": {
      "name": "2022-08-04 강의노트",
      "provenance": [],
      "toc_visible": true,
      "authorship_tag": "ABX9TyNf0mlgFLCbQeCG10BI0ZqE",
      "include_colab_link": true
    },
    "kernelspec": {
      "name": "python3",
      "display_name": "Python 3"
    },
    "language_info": {
      "name": "python"
    }
  },
  "cells": [
    {
      "cell_type": "markdown",
      "metadata": {
        "id": "view-in-github",
        "colab_type": "text"
      },
      "source": [
        "<a href=\"https://colab.research.google.com/github/kes901025/Data/blob/main/2022_08_04_%EA%B0%95%EC%9D%98%EB%85%B8%ED%8A%B8.ipynb\" target=\"_parent\"><img src=\"https://colab.research.google.com/assets/colab-badge.svg\" alt=\"Open In Colab\"/></a>"
      ]
    },
    {
      "cell_type": "markdown",
      "source": [
        "# 1. 파이썬 기초"
      ],
      "metadata": {
        "id": "e29kTRs7aYhh"
      }
    },
    {
      "cell_type": "markdown",
      "source": [
        "## 1. 주석(Comments)\n",
        "*  코드가 아님\n",
        "*  코드에 대한 설명을 담\n",
        "*  컴퓨터가 읽지를 못 함\n",
        "* 단축키 ctrl + /"
      ],
      "metadata": {
        "id": "5a9kCxfMblmx"
      }
    },
    {
      "cell_type": "markdown",
      "source": [
        "## 2. 출력(print)\n",
        "* print()\n",
        "\n"
      ],
      "metadata": {
        "id": "EWJw_kkPdmdq"
      }
    },
    {
      "cell_type": "code",
      "source": [
        "print(\"안녕하세요~\")      # 문자 가능\n",
        "print(25)                 # 숫자 가능\n",
        "print(False)              # 참/거짓 가능"
      ],
      "metadata": {
        "colab": {
          "base_uri": "https://localhost:8080/"
        },
        "id": "jn4UzDSeez46",
        "outputId": "bf52ed74-fe70-456d-bc32-212c614f85c1"
      },
      "execution_count": null,
      "outputs": [
        {
          "output_type": "stream",
          "name": "stdout",
          "text": [
            "안녕하세요~\n",
            "25\n",
            "False\n"
          ]
        }
      ]
    },
    {
      "cell_type": "markdown",
      "source": [
        "## 3. 변수 (Variables)\n",
        "* 프로그래밍에서 데이터를 저장하는 공간\n",
        "* menu = '피자'\n",
        "* 변수이름/ 할당/ 값"
      ],
      "metadata": {
        "id": "0KVYd12vfU_o"
      }
    },
    {
      "cell_type": "code",
      "source": [
        "text = \"엄마가 섬그늘에~\"\n",
        "\n",
        "print(text)"
      ],
      "metadata": {
        "colab": {
          "base_uri": "https://localhost:8080/"
        },
        "id": "nKc3i8nEhQ7B",
        "outputId": "eb875b49-b3cf-410b-d062-d46a3d292175"
      },
      "execution_count": null,
      "outputs": [
        {
          "output_type": "stream",
          "name": "stdout",
          "text": [
            "엄마가 섬그늘에~\n"
          ]
        }
      ]
    },
    {
      "cell_type": "markdown",
      "source": [
        "## 4. 변수이름 짓기\n",
        "* 띄어쓰기 안됨\n",
        "* 빈칸 인식 못함\n",
        "* 대문자, 소문자, _(언더바) 사용"
      ],
      "metadata": {
        "id": "D3g670NrhkVI"
      }
    },
    {
      "cell_type": "code",
      "source": [
        "# 점심 때 먹은 음식 칼로리 계산\n",
        "\n",
        "kimbap_vegetable = 150                 # kimbap_vegetable 변수에 150을  할당 함\n",
        "\n",
        "print(\"오늘 점심 때 뭐 먹었나요?\")\n",
        "print(\"야채김밥 먹었어요.\")\n",
        "print(\"칼로리가 얼마에요?\")\n",
        "print(kimbap_vegetable, \"칼로리 입니다.\")     # kimbap_vegetable 라는 변수에 무슨 값이 있는지 보여 줌"
      ],
      "metadata": {
        "colab": {
          "base_uri": "https://localhost:8080/"
        },
        "id": "PbIoeBRYi26Y",
        "outputId": "7f84e3f0-a7e2-4b9b-a276-19ca504bb887"
      },
      "execution_count": null,
      "outputs": [
        {
          "output_type": "stream",
          "name": "stdout",
          "text": [
            "오늘 점심 때 뭐 먹었나요?\n",
            "야채김밥 먹었어요.\n",
            "칼로리가 얼마에요?\n",
            "150 칼로리 입니다.\n"
          ]
        }
      ]
    },
    {
      "cell_type": "markdown",
      "source": [
        "## 5. 문자열 (string)\n",
        "* 컴퓨터 프로그래밍에서 텍스트를 문자열(string) 이라고 함\n",
        "* 큰 따옴표, 작은 따옴표 로 텍스트 묶음\n",
        "* 큰 따옴표 안에 작은 따옴표 넣기\n",
        "* 작은 따옴표 안에 큰 따옴표 넣기"
      ],
      "metadata": {
        "id": "ubm-mM3-ksBo"
      }
    },
    {
      "cell_type": "code",
      "source": [
        "print(\"안유진\")        # 문자열 \"안유진\" 을 출력 함"
      ],
      "metadata": {
        "colab": {
          "base_uri": "https://localhost:8080/"
        },
        "id": "_2nsnLr1lUe5",
        "outputId": "e74e9603-d1a9-476b-e982-4ea7f8af7461"
      },
      "execution_count": null,
      "outputs": [
        {
          "output_type": "stream",
          "name": "stdout",
          "text": [
            "안유진\n"
          ]
        }
      ]
    },
    {
      "cell_type": "code",
      "source": [
        "# 대표 걸그룹 별 좋아하는 가수 소개 하기\n",
        "\n",
        "print(\"소녀시대 '임윤아'를 좋아 합니다.\")\n",
        "print('아이브 \"안유진\" 을 좋아 합니다.')\n",
        "print(\"원더걸스 안소희 를 좋아 합니다.\")\n",
        "print('트와이스 사나 를 좋아 합니다.')"
      ],
      "metadata": {
        "colab": {
          "base_uri": "https://localhost:8080/"
        },
        "id": "nmvajKKClknw",
        "outputId": "80bec159-217d-478d-9f86-a00b5704b6e9"
      },
      "execution_count": null,
      "outputs": [
        {
          "output_type": "stream",
          "name": "stdout",
          "text": [
            "소녀시대 '임윤아'를 좋아 합니다.\n",
            "아이브 \"안유진\" 을 좋아 합니다.\n",
            "원더걸스 안소희 를 좋아 합니다.\n",
            "트와이스 사나 를 좋아 합니다.\n"
          ]
        }
      ]
    },
    {
      "cell_type": "markdown",
      "source": [
        "## 6. 숫자 (Numeric Data types)\n",
        "* int 정수형 데이터 (1, 3, 4, 7 ...)\n",
        "* flat 실수형,부동소수점 데이터 (12.3, 2.3, 12.3455 ...)\n",
        "* type() 으로 확인"
      ],
      "metadata": {
        "id": "HB81sl8Vm9BZ"
      }
    },
    {
      "cell_type": "code",
      "source": [
        "number_1 = 2        # int 정수형\n",
        "number_2 = 4.0      # flat 실수형\n",
        "\n",
        "print(\"number_1은 무슨 형 인가요?\")\n",
        "print(type(number_1))\n",
        "print(\"number_2는 무슨 형 인가요?\")\n",
        "print(type(number_2))"
      ],
      "metadata": {
        "colab": {
          "base_uri": "https://localhost:8080/"
        },
        "id": "kjF9UekYpErA",
        "outputId": "1c373af6-16d2-4bdb-93c1-1afa2923c3b4"
      },
      "execution_count": null,
      "outputs": [
        {
          "output_type": "stream",
          "name": "stdout",
          "text": [
            "number_1은 무슨 형 인가요?\n",
            "<class 'int'>\n",
            "number_2는 무슨 형 인가요?\n",
            "<class 'float'>\n"
          ]
        }
      ]
    },
    {
      "cell_type": "markdown",
      "source": [
        "## 7. 불 (bool data types)\n",
        "* boolean\n",
        "* 참(True), 거짓(False) 을 나타내는 자료형\n",
        "* 예약어 (Reserve Words)\n",
        "* 변수, 함수로 사용 못 함"
      ],
      "metadata": {
        "id": "74xCFqlgrltX"
      }
    },
    {
      "cell_type": "code",
      "source": [
        "print(type(True))\n",
        "print(type(False))\n",
        "\n",
        "# True = 3            # 변수, 함수로 사용 안됨\n",
        "# print(True)         # SyntaxError: can't assign to keyword"
      ],
      "metadata": {
        "colab": {
          "base_uri": "https://localhost:8080/"
        },
        "id": "m4QyOHTis712",
        "outputId": "686ee5b1-2711-41fb-b933-bb78e9d463bd"
      },
      "execution_count": null,
      "outputs": [
        {
          "output_type": "stream",
          "name": "stdout",
          "text": [
            "<class 'bool'>\n",
            "<class 'bool'>\n"
          ]
        }
      ]
    },
    {
      "cell_type": "markdown",
      "source": [
        "# 2. 파이썬 계산"
      ],
      "metadata": {
        "id": "twiXGg7xt6wm"
      }
    },
    {
      "cell_type": "markdown",
      "source": [
        "## 1. 사칙연산\n",
        "* +(더하기), - (빼기), * (곱하기), / (나누기), % (나머지), // (몫), ** (제곱)"
      ],
      "metadata": {
        "id": "3JIwCJIXuKlu"
      }
    },
    {
      "cell_type": "code",
      "source": [
        "print(100+10)\n",
        "print(50-25)\n",
        "print(50*2)\n",
        "print(100/20)        # 실수로 반환\n",
        "print(100//20)       # 정수로 반환\n",
        "print(12%5)\n",
        "print(2**4)          # 2를 4번 곱함\n",
        "\n",
        "# print(6/0)         # 에러 남\n"
      ],
      "metadata": {
        "colab": {
          "base_uri": "https://localhost:8080/"
        },
        "id": "CqnKxqgvvIhI",
        "outputId": "4bc06bb8-f2f1-4052-cb6a-364e58ba7577"
      },
      "execution_count": null,
      "outputs": [
        {
          "output_type": "stream",
          "name": "stdout",
          "text": [
            "110\n",
            "25\n",
            "100\n",
            "5.0\n",
            "5\n",
            "2\n",
            "16\n"
          ]
        }
      ]
    },
    {
      "cell_type": "markdown",
      "source": [
        "## 2. 문자열 더하기 (String Concatenation)\n",
        "* 문자 열끼리 더함"
      ],
      "metadata": {
        "id": "6X61ZSK1yLZe"
      }
    },
    {
      "cell_type": "code",
      "source": [
        "# 끝말 잇기\n",
        "\n",
        "word_1 = \"나비,\"\n",
        "word_2 = \"비디오,\"\n",
        "word_3 = \"오리,\"\n",
        "word_4 = \"리본,\"\n",
        "word_5 = \"본점,\"\n",
        "\n",
        "attach = word_1 + word_2 + word_3 + word_4 + word_5\n",
        "print(attach)\n"
      ],
      "metadata": {
        "colab": {
          "base_uri": "https://localhost:8080/"
        },
        "id": "6AcwTGb0y7Z-",
        "outputId": "2efd9956-1e51-4bc6-910e-94a12f8b5c67"
      },
      "execution_count": null,
      "outputs": [
        {
          "output_type": "stream",
          "name": "stdout",
          "text": [
            "나비,비디오,오리,리본,본점,\n"
          ]
        }
      ]
    },
    {
      "cell_type": "markdown",
      "source": [
        "## 3. += 이랑 -= (Plus Equals)\n",
        "* number = number + 100\n",
        "* number += 100  \n",
        "         \n",
        "          \n",
        "* number = number - 100\n",
        "* number -= 100"
      ],
      "metadata": {
        "id": "MKvvLTBw1VCV"
      }
    },
    {
      "cell_type": "code",
      "source": [
        "# 총 급여 계산 하기\n",
        "\n",
        "sum_pay = 500\n",
        "meal = 10\n",
        "tip = 10\n",
        "\n",
        "sum_pay += tip\n",
        "print(sum_pay)\n",
        "sum_pay -= meal\n",
        "print(sum_pay)"
      ],
      "metadata": {
        "colab": {
          "base_uri": "https://localhost:8080/"
        },
        "id": "q5eE-fzm2iAY",
        "outputId": "76bd09fe-7e3c-48f7-903b-e48670df18ce"
      },
      "execution_count": null,
      "outputs": [
        {
          "output_type": "stream",
          "name": "stdout",
          "text": [
            "510\n",
            "500\n"
          ]
        }
      ]
    },
    {
      "cell_type": "markdown",
      "source": [
        "# 3. 파이썬 함수 (Functions)\n"
      ],
      "metadata": {
        "id": "HPreJexg44hF"
      }
    },
    {
      "cell_type": "markdown",
      "source": [
        "##1. 함수(Function)\n",
        "* 불필요한 코딩을 줄임\n",
        "* input(입력) 을 받아 output(결과) 를 주는 작업"
      ],
      "metadata": {
        "id": "HWvZe_CyU_KQ"
      }
    },
    {
      "cell_type": "markdown",
      "source": [
        "def 함수\n",
        "* define 정의하다\n",
        "* def 함수를 만들 때 사용하는 예약어"
      ],
      "metadata": {
        "id": "zof7RaXHZczQ"
      }
    },
    {
      "cell_type": "code",
      "source": [
        "def add(number):   # add(함수이름): 함수 이름은 임의로 생성 가능, number(변수): 계속 바뀔 값\n",
        "  number += 100    # 설명글                                                 1,2,3 줄: 함수 정의\n",
        "  print(number)    # 실행문\n",
        "\n",
        "add(5)             # 함수 호출, number에 5를 넣고 호출해라"
      ],
      "metadata": {
        "colab": {
          "base_uri": "https://localhost:8080/"
        },
        "id": "6KHZZaWnY-iH",
        "outputId": "0243bc98-91e9-4a93-f6ec-99a64efcf377"
      },
      "execution_count": null,
      "outputs": [
        {
          "output_type": "stream",
          "name": "stdout",
          "text": [
            "105\n"
          ]
        }
      ]
    },
    {
      "cell_type": "markdown",
      "source": [
        "## 2. 함수 매개변수 (parameters)\n",
        "* 함수를 호출할 때 값을 설정하지 않아도 특정값이 할당되도록 하는 기능\n",
        "* 변수명을 통해 정의\n",
        "* 매개변수는 (정의할때)함수에 입력으로 전달된 값을 받는 변수.\n",
        "* 인자는 함수를 호출할 때 함수에 전달하는 입력값.\n",
        "* 매개변수에 기본값 설정 할 수 있음"
      ],
      "metadata": {
        "id": "dLWqc-7ujvhU"
      }
    },
    {
      "cell_type": "code",
      "source": [
        "def music(this):                #() 매개변수 parameter\n",
        "  print(this + \"나비야\")\n",
        "  print(\"이리 날아 오너라\")\n",
        "\n",
        "music(\"나비야\")                 #()안에 들어가는 변수를 argument 또는 함수 인자 라고 함"
      ],
      "metadata": {
        "colab": {
          "base_uri": "https://localhost:8080/"
        },
        "id": "Fe01JiTwkzYG",
        "outputId": "c69281c0-c8d7-4806-f0e4-e6cd4d46a9a6"
      },
      "execution_count": null,
      "outputs": [
        {
          "output_type": "stream",
          "name": "stdout",
          "text": [
            "나비야나비야\n",
            "이리 날아 오너라\n"
          ]
        }
      ]
    },
    {
      "cell_type": "code",
      "source": [
        "def music(this, this_2 = \"노랑나비 흰나비\"):   # 매개변수에 기본값 설정 할 수 있음, 바로 옆에 설정해야 함.\n",
        "  print(this + \"나비야\")\n",
        "  print(\"이리 날아 오너라\")\n",
        "  print(this_2)\n",
        "\n",
        "music(\"나비야\")"
      ],
      "metadata": {
        "colab": {
          "base_uri": "https://localhost:8080/"
        },
        "id": "ZS6PA_pV7jUU",
        "outputId": "a91ed379-cc76-42e8-8829-ad80f1e6a18d"
      },
      "execution_count": null,
      "outputs": [
        {
          "output_type": "stream",
          "name": "stdout",
          "text": [
            "나비야나비야\n",
            "이리 날아 오너라\n",
            "노랑나비 흰나비\n"
          ]
        }
      ]
    },
    {
      "cell_type": "markdown",
      "source": [
        "## 3. 반환값, return\n",
        "* return 을 만나면, 함수 코드가 종료 됨\n",
        "*특정 기능을 수행하며 호출한 곳으로 돌려줄 결과값이 있을 때 사용"
      ],
      "metadata": {
        "id": "3MBdnDDRm3ub"
      }
    },
    {
      "cell_type": "code",
      "source": [
        "def sum(num_1, num_2):\n",
        "  return(num_1 + num_2)     # return을 만나서 여기서 반환\n",
        "  pirnt(num_2 / num_1)      # return에서 종료되어 안나옴\n",
        "\n",
        "sum(2,4)"
      ],
      "metadata": {
        "colab": {
          "base_uri": "https://localhost:8080/"
        },
        "id": "oYvZ6t_P6x-t",
        "outputId": "6decc73c-769d-4919-9b85-3d696183cccb"
      },
      "execution_count": null,
      "outputs": [
        {
          "output_type": "execute_result",
          "data": {
            "text/plain": [
              "6"
            ]
          },
          "metadata": {},
          "execution_count": 3
        }
      ]
    },
    {
      "cell_type": "markdown",
      "source": [
        "## 4. 여러 개의 반환값, multiple returns"
      ],
      "metadata": {
        "id": "7yRTCA8I9MTc"
      }
    },
    {
      "cell_type": "code",
      "source": [
        "def who():\n",
        "  x = \"안유진\"\n",
        "  y = \"이서\"\n",
        "  return(x,y)         # , 해서 여러 값 반환 가능\n",
        "\n",
        "x, y = who()\n",
        "print(x)\n",
        "print(y)"
      ],
      "metadata": {
        "colab": {
          "base_uri": "https://localhost:8080/"
        },
        "id": "K8AKlD0g_ZC9",
        "outputId": "9f8cf0e9-933c-4f62-e7d6-adca7604a7bb"
      },
      "execution_count": null,
      "outputs": [
        {
          "output_type": "stream",
          "name": "stdout",
          "text": [
            "안유진\n",
            "이서\n"
          ]
        }
      ]
    },
    {
      "cell_type": "markdown",
      "source": [
        "# 4. 파이썬 - 리스트"
      ],
      "metadata": {
        "id": "POE0P17HANOd"
      }
    },
    {
      "cell_type": "markdown",
      "source": [
        "## 1. 리스트 (List)\n",
        "* 순서 있음\n",
        "* 중복 가능\n",
        "* 수정 가능\n",
        "* 삭제 가능\n",
        "* 여러개의 값을 묶어서 저장 가능\n",
        "* 변수의 이름에 여러개의 값을 담을 수 있음"
      ],
      "metadata": {
        "id": "WH2FQwXVARBK"
      }
    },
    {
      "cell_type": "markdown",
      "source": [
        "## 2. LIst 만들기 / List에 문자 담기\n",
        "* [, ] 대괄호 사용\n",
        "* , 로 구분\n",
        "* 텍스트는 \" \", ' ' 넣기\n",
        "* 숫자는 아무 것도 안넣기"
      ],
      "metadata": {
        "id": "BVykrEVcDD0U"
      }
    },
    {
      "cell_type": "code",
      "source": [
        "name = [\"안유진\", \"이서\", \"장원영\"]     # name 이라는 변수 이름에 여러개의 값을 담을 수 있음 / 텍스트 가능\n",
        "\n",
        "print(\"아이브에서 아는 멤버는?\")\n",
        "print(name)"
      ],
      "metadata": {
        "colab": {
          "base_uri": "https://localhost:8080/"
        },
        "id": "rJOQMtL3DcBz",
        "outputId": "f8ca1bf6-a977-4a48-e8c1-870246b6388f"
      },
      "execution_count": null,
      "outputs": [
        {
          "output_type": "stream",
          "name": "stdout",
          "text": [
            "아이브에서 아는 멤버는?\n",
            "['안유진', '이서', '장원영']\n"
          ]
        }
      ]
    },
    {
      "cell_type": "code",
      "source": [
        "month = [10,11,12,1,2]                  # month 이라는 변수 이름에 여러개의 값을 담을 수 있음 / 숫자 가능\n",
        "\n",
        "print(\"몇달들을 좋아하나요?\")\n",
        "print(month)"
      ],
      "metadata": {
        "colab": {
          "base_uri": "https://localhost:8080/"
        },
        "id": "l4e-8zNxD4sR",
        "outputId": "263100c8-0fb6-49e1-c39c-50cf12aae642"
      },
      "execution_count": null,
      "outputs": [
        {
          "output_type": "stream",
          "name": "stdout",
          "text": [
            "몇달들을 좋아하나요?\n",
            "[10, 11, 12, 1, 2]\n"
          ]
        }
      ]
    },
    {
      "cell_type": "code",
      "source": [
        "mart = [\"계란\",\"피자\",15000]\n",
        "\n",
        "print(\"마트에서 산거랑 총 가격은?\")\n",
        "print(mart)"
      ],
      "metadata": {
        "colab": {
          "base_uri": "https://localhost:8080/"
        },
        "id": "Wb_-oqWDIE4k",
        "outputId": "846e9d39-e4f9-4cc3-e89b-4f67929d163d"
      },
      "execution_count": null,
      "outputs": [
        {
          "output_type": "stream",
          "name": "stdout",
          "text": [
            "마트에서 산거랑 총 가격은?\n",
            "['계란', '피자', 15000]\n"
          ]
        }
      ]
    },
    {
      "cell_type": "markdown",
      "source": [
        "## 3. List 에 List 담기\n",
        "* 리스트 안에 리스트 넣을 수 있음\n",
        "* [[]] 대괄호 안에 대괄호 넣기"
      ],
      "metadata": {
        "id": "K48g8lz7IqZy"
      }
    },
    {
      "cell_type": "code",
      "source": [
        "who = [[\"안유진\",\"이서\"],[\"지수\"],[\"사나\",\"다현\",\"모모\",\"나연\"]]\n",
        "\n",
        "print(\"걸그룹별 아는 멤버는?\")\n",
        "print(who)\n",
        "print(len(who))                                                    # len은 값이 몇개 인지 알려 줌"
      ],
      "metadata": {
        "colab": {
          "base_uri": "https://localhost:8080/"
        },
        "id": "0NVNqdnNI0sy",
        "outputId": "4e060b09-eb15-493b-889d-795d69c145ef"
      },
      "execution_count": null,
      "outputs": [
        {
          "output_type": "stream",
          "name": "stdout",
          "text": [
            "걸그룹별 아는 멤버는?\n",
            "[['안유진', '이서'], ['지수'], ['사나', '다현', '모모', '나연']]\n",
            "3\n"
          ]
        }
      ]
    },
    {
      "cell_type": "markdown",
      "source": [
        "## 4. append() 리스트에 값을 추가하기\n",
        "* 리스트에 값을 추가하는 함수\n",
        "* .append() 넣음\n",
        "* 리스트의 맨뒤에 추가 됨"
      ],
      "metadata": {
        "id": "eqhbGhKDJymi"
      }
    },
    {
      "cell_type": "code",
      "source": [
        "who = [\"지수\",\"제니\",\"리사\"]\n",
        "\n",
        "print(\"빠졌어요. 추가해주세요.\")\n",
        "who.append(\"로제\")                 # .append 를 통해 값을 추가 함\n",
        "print(who)\n"
      ],
      "metadata": {
        "colab": {
          "base_uri": "https://localhost:8080/"
        },
        "id": "zK-czRCtMbIr",
        "outputId": "857f1f98-6672-4921-b707-e3d4238486c0"
      },
      "execution_count": null,
      "outputs": [
        {
          "output_type": "stream",
          "name": "stdout",
          "text": [
            "빠졌어요. 추가해주세요.\n",
            "['지수', '제니', '리사', '로제']\n"
          ]
        }
      ]
    },
    {
      "cell_type": "code",
      "source": [
        "number = [1,3,5,7]\n",
        "\n",
        "print(\"홀수 숫자를 묶어서 더 추가 해봐\")\n",
        "number.append([9,11,13,15])                # [] 대괄호 묶음도 추가 가능\n",
        "print(number)"
      ],
      "metadata": {
        "colab": {
          "base_uri": "https://localhost:8080/"
        },
        "id": "bC_x35S-M24p",
        "outputId": "18245b56-cc73-48b9-9ee4-14209122fb9f"
      },
      "execution_count": null,
      "outputs": [
        {
          "output_type": "stream",
          "name": "stdout",
          "text": [
            "홀수 숫자를 묶어서 더 추가 해봐\n",
            "[1, 3, 5, 7, [9, 11, 13, 15]]\n"
          ]
        }
      ]
    },
    {
      "cell_type": "markdown",
      "source": [
        "## 5. 리스트 인덱싱 (index)\n",
        "* 인덱싱을 통해 값을 불러 올 수 있음\n",
        "* 0 앞에서 시작\n",
        "* -1 뒤에서 시작\n"
      ],
      "metadata": {
        "id": "9Gw4WMypOSYJ"
      }
    },
    {
      "cell_type": "code",
      "source": [
        "who = [\"안유진\",\"이서\"]\n",
        "\n",
        "print(who[0])\n",
        "print(who[1])\n",
        "print(who[-1])"
      ],
      "metadata": {
        "colab": {
          "base_uri": "https://localhost:8080/"
        },
        "id": "XXA26ol4n9Kz",
        "outputId": "910f1616-750d-4ea1-929b-b85e6e7379df"
      },
      "execution_count": null,
      "outputs": [
        {
          "output_type": "stream",
          "name": "stdout",
          "text": [
            "안유진\n",
            "이서\n",
            "이서\n"
          ]
        }
      ]
    },
    {
      "cell_type": "markdown",
      "source": [
        "## 6. 슬라이싱(slicing)\n",
        "* 리스트에서 여러값을 가져 옴\n",
        "* list[3:] 3번째 부터 끝까지 가져 옴\n",
        "* list[:3] 처음부터 3번째 까지 자져 옴\n",
        "* list[:] 처음부터 끝까지 가져 옴"
      ],
      "metadata": {
        "id": "qFPZ9AU_o7w5"
      }
    },
    {
      "cell_type": "code",
      "source": [
        "list1 = [\"안소희\", \"안유진\", \"안녕\"]\n",
        "\n",
        "print(list1[0:3])                    # 안소희 부터 시작, 안녕까지 출력\n",
        "\n",
        "list1 = list1[1:]                    # 안유진 부턱 뒤에 전부 다 출력\n",
        "print(list1)\n",
        "\n",
        "print(list1[-1])                     # 안녕만 출력"
      ],
      "metadata": {
        "colab": {
          "base_uri": "https://localhost:8080/"
        },
        "id": "Q1LjKb_4j1qY",
        "outputId": "48466f59-c354-4c02-b7ac-b5e6e68a2f3a"
      },
      "execution_count": null,
      "outputs": [
        {
          "output_type": "stream",
          "name": "stdout",
          "text": [
            "['안소희', '안유진', '안녕']\n",
            "['안유진', '안녕']\n",
            "안녕\n"
          ]
        }
      ]
    },
    {
      "cell_type": "code",
      "source": [
        "list2 = [\"이서\", \"임윤아\", \"나연\", \"모모\", \"다현\"]\n",
        "\n",
        "team = list2[-3:-1]                                 # 나연, 모모 출력 / [-3:-1:1] 1이 숨어 있는 상태\n",
        "print(team)\n",
        "team = list2[-1:-3:-1]                              # 맨 뒤에 -1 을 붙이면, 뒤에서 부터 시작\n",
        "print(team)                                         # 다현, 모모 출력"
      ],
      "metadata": {
        "colab": {
          "base_uri": "https://localhost:8080/"
        },
        "id": "HHlT5dQnkIBK",
        "outputId": "c651e8e2-af2f-457b-9625-6e849d0d66f3"
      },
      "execution_count": null,
      "outputs": [
        {
          "output_type": "stream",
          "name": "stdout",
          "text": [
            "['나연', '모모']\n",
            "['다현', '모모']\n"
          ]
        }
      ]
    },
    {
      "cell_type": "markdown",
      "source": [
        "# 5. 파이썬으로 조건에 따라 다른 명령 내리기"
      ],
      "metadata": {
        "id": "mwp1WQY0lnOW"
      }
    },
    {
      "cell_type": "markdown",
      "source": [
        "## 1. IF문\n",
        "* 조건을 판단하고 상황에 맞게 처리하게 하는 문법"
      ],
      "metadata": {
        "id": "vWF-D4NnTevv"
      }
    },
    {
      "cell_type": "markdown",
      "source": [
        "* **if <조건 1> :**\n",
        "* **들여** <조건1이 참일 경우 출력>\n",
        "* **else :**\n",
        "* **들여** <위의 조건이 거짓 일 경우 출력>"
      ],
      "metadata": {
        "id": "5WcwqGlwU-Yf"
      }
    },
    {
      "cell_type": "code",
      "source": [
        "list = [\"안유진\"]\n",
        "\n",
        "if list == [\"안유진\"]:      # 리스트 내용이 안유진이 맞으면 출력\n",
        "  print(\"맞음\")"
      ],
      "metadata": {
        "colab": {
          "base_uri": "https://localhost:8080/"
        },
        "id": "mNDFoCswUfH2",
        "outputId": "3f448763-5775-46d2-862f-e74db629482b"
      },
      "execution_count": null,
      "outputs": [
        {
          "output_type": "stream",
          "name": "stdout",
          "text": [
            "맞음\n"
          ]
        }
      ]
    },
    {
      "cell_type": "code",
      "source": [
        "number = 35\n",
        "\n",
        "if number == 40 :                # number 이 40 이면 출력\n",
        "  print(\"40 이다.\")\n",
        "else :\n",
        "  print(\"40 아니다.\")            # number 이 40 아니면 출력"
      ],
      "metadata": {
        "colab": {
          "base_uri": "https://localhost:8080/"
        },
        "id": "dRAYMJkjb5QV",
        "outputId": "b1a3aec6-c084-4337-bd18-7d664683050b"
      },
      "execution_count": null,
      "outputs": [
        {
          "output_type": "stream",
          "name": "stdout",
          "text": [
            "40 아니다.\n"
          ]
        }
      ]
    },
    {
      "cell_type": "markdown",
      "source": [
        "## 2. 조건을 만드는 방법 1 : 비교연산자\n",
        "* 조건문 사용시 사용\n",
        "* == 같다\n",
        "* (= 컴퓨터에서 지정하는 역할)\n",
        "* != 같지 않다.\n",
        "* <> 같지 않다.\n",
        "* a < b a는 b 보다 작다.\n",
        "* a > b a는 b 보다 크다.\n",
        "* a >= b a는 b 보다 같거나 크다.\n",
        "* a <= b a는 b 보다 같거나 작다."
      ],
      "metadata": {
        "id": "P9Jfb21NWSZW"
      }
    },
    {
      "cell_type": "code",
      "source": [
        "number = 10\n",
        "\n",
        "if number > 9 :           # number 가 9 보다 크면, 아래 글자를 출력해라\n",
        "  print(\"9보다 크다.\")"
      ],
      "metadata": {
        "colab": {
          "base_uri": "https://localhost:8080/"
        },
        "id": "sVFyI0WPXidP",
        "outputId": "140ad2d9-69ec-4b76-bfd8-fcf72a1f013d"
      },
      "execution_count": null,
      "outputs": [
        {
          "output_type": "stream",
          "name": "stdout",
          "text": [
            "9보다 크다.\n"
          ]
        }
      ]
    },
    {
      "cell_type": "markdown",
      "source": [
        "## 3. 조건을 만드는 방법 2 : 논리연산자\n",
        "* 복합된 조건문을 만들 때 ,사용\n",
        "* 조건 a and 조건 b : a조건과 b조건, 둘다 만족\n",
        "* 조건 a or 조건 b : a조건 또는 b조건, 둘중 하나 만족\n",
        "* not 조건a : a조건이 아닌거"
      ],
      "metadata": {
        "id": "MJRvl5pzYlZe"
      }
    },
    {
      "cell_type": "code",
      "source": [
        "money = 15000\n",
        "\n",
        "if money >10000 and money <20000 :          # moeny가 10000보다 크고, 20000보다 작을 때, 출력\n",
        "  print(money)"
      ],
      "metadata": {
        "colab": {
          "base_uri": "https://localhost:8080/"
        },
        "id": "oO2s79KoZe-_",
        "outputId": "006c9db5-93b0-45f3-d495-8e8b069f9f76"
      },
      "execution_count": null,
      "outputs": [
        {
          "output_type": "stream",
          "name": "stdout",
          "text": [
            "15000\n"
          ]
        }
      ]
    },
    {
      "cell_type": "code",
      "source": [
        "money = 20000\n",
        "\n",
        "if not money == 15000 :                     # money가 15000이 아닐 때, 출력\n",
        "  print(money) "
      ],
      "metadata": {
        "colab": {
          "base_uri": "https://localhost:8080/"
        },
        "id": "kOzK6MTDZs7C",
        "outputId": "609a9057-54cc-4d8a-a477-888adcaec03a"
      },
      "execution_count": null,
      "outputs": [
        {
          "output_type": "stream",
          "name": "stdout",
          "text": [
            "20000\n"
          ]
        }
      ]
    },
    {
      "cell_type": "markdown",
      "source": [
        "## 4. 병렬의 조건이 두개 이상일땐? : **elif**\n",
        "```\n",
        "if <조건 1> :\n",
        "  <조건1이 참일 경우 출력>\n",
        "elif <조건 2> :\n",
        "  <조건2가 참일 경우 출력>\n",
        "elif <조건 3> :\n",
        "  <조건3이 참일 경우 출력>\n",
        "else :**\n",
        "  <위도 조건들이 거짓 일 경우 출력>\n",
        "```\n"
      ],
      "metadata": {
        "id": "1NptVK9dauRO"
      }
    },
    {
      "cell_type": "code",
      "source": [
        "list = [\"태연\"]\n",
        "\n",
        "if list == [\"효연\"] :\n",
        "  print(\"맞음\")\n",
        "elif list == [\"써니\"] :\n",
        "    print(\"맞음2\")\n",
        "elif list == [\"수영\"] :\n",
        "    print(\"맞음3\")\n",
        "elif list == [\"윤아\"] :\n",
        "    print(\"맞음4\")\n",
        "else :\n",
        "  print(list)"
      ],
      "metadata": {
        "colab": {
          "base_uri": "https://localhost:8080/"
        },
        "id": "r4T9jy9kcWRN",
        "outputId": "6466fa27-019d-4575-818d-d6a1dac3948c"
      },
      "execution_count": null,
      "outputs": [
        {
          "output_type": "stream",
          "name": "stdout",
          "text": [
            "['태연']\n"
          ]
        }
      ]
    },
    {
      "cell_type": "markdown",
      "source": [
        "## 5. 조건 안에 조건이 있을 때 : **if안에 if**\n",
        "```\n",
        "큰조건 :**\n",
        "  if <작은조건 1> :\n",
        "    작은조건 1이 참일 경우 출력\n",
        "  elif <작은조건 2> :\n",
        "    작은조건 2이 참일 경우 출력\n",
        "  elif <작은조건 3> :\n",
        "    작은조건 3이 참일 경우 출력\n",
        "  else :\n",
        "    작은조건 1,2,3이 거짓일 경우 출력\n",
        "else :\n",
        "  큰조건이 거짓일 경우 출력\n",
        "```"
      ],
      "metadata": {
        "id": "55YdsHlveD11"
      }
    },
    {
      "cell_type": "code",
      "source": [
        "자녀수 = 2\n",
        "육아난이도 = 80\n",
        "\n",
        "if 자녀수 == 2 :                       # 자녀수가 2 이니깐 if 큰조건에 들어옴\n",
        "  if 육아난이도 == 90 :\n",
        "    print(\"A\")\n",
        "  elif 육아난이도 == 80 :              # 육아난이도 80 이라서, 출력\n",
        "    print(\"B\")\n",
        "  elif 육아난이도 == 70 :\n",
        "    print(\"C\")\n",
        "  else :\n",
        "    print(\"D\")\n",
        "else :\n",
        "  print(\"E\")"
      ],
      "metadata": {
        "colab": {
          "base_uri": "https://localhost:8080/"
        },
        "id": "-BoRQYnmh9M1",
        "outputId": "0d699e58-980a-4780-93b6-5f969c46b2fc"
      },
      "execution_count": null,
      "outputs": [
        {
          "output_type": "stream",
          "name": "stdout",
          "text": [
            "B\n"
          ]
        }
      ]
    },
    {
      "cell_type": "code",
      "source": [
        "자녀수 = 2\n",
        "육아난이도 = 60\n",
        "\n",
        "if 자녀수 == 2 :                       # 자녀수가 2 이니깐 if 큰조건에 들어옴 / 육아난이도 60에 해당하는게 없으므로 출력 안됨 / else 에도 해당 안됨\n",
        "  if 육아난이도 == 90 :\n",
        "    print(\"A\")\n",
        "  elif 육아난이도 == 80 :\n",
        "    print(\"B\")\n",
        "  elif 육아난이도 == 70 :\n",
        "    print(\"C\")\n",
        "else :\n",
        "  print(\"E\")"
      ],
      "metadata": {
        "id": "7Wuctncwi11_"
      },
      "execution_count": null,
      "outputs": []
    },
    {
      "cell_type": "markdown",
      "source": [
        "# 6. 파이썬으로 반복 작업 자동화하기"
      ],
      "metadata": {
        "id": "3rqtdrUMWQts"
      }
    },
    {
      "cell_type": "markdown",
      "source": [
        "## 1. 루프 (Loops)\n",
        "* 명령어를 반복적으로 실행시키는 경우에 사용"
      ],
      "metadata": {
        "id": "a8Yl2txzwfXv"
      }
    },
    {
      "cell_type": "markdown",
      "source": [
        "## 2. for 반복문\n",
        "* 리스트와 같은 시퀀스를 이용해서 원하는 명령을 반복하는 명령문\n",
        "* for 임시변수 in List변수:\n",
        "* **들여** 취할동작"
      ],
      "metadata": {
        "id": "wZjQbSjBxccf"
      }
    },
    {
      "cell_type": "code",
      "source": [
        "girl = [\"태연\",\"운아\",\"효연\",\"유리\",\"수영\"]\n",
        "\n",
        "for out in girl :                              # 임시변수를 out 라고 지정\n",
        "  print(out)                                   # girl 리스트들을 전부 하나씩 출력"
      ],
      "metadata": {
        "colab": {
          "base_uri": "https://localhost:8080/"
        },
        "id": "OcZPqtUxyp8I",
        "outputId": "829c3a53-1ee9-403e-dfb2-c4e0e19d3c67"
      },
      "execution_count": null,
      "outputs": [
        {
          "output_type": "stream",
          "name": "stdout",
          "text": [
            "태연\n",
            "운아\n",
            "효연\n",
            "유리\n",
            "수영\n"
          ]
        }
      ]
    },
    {
      "cell_type": "markdown",
      "source": [
        "## 3. range() 함수\n",
        "* 반복문과 연동되어 많이 사용하는 함수\n",
        "다른 명령을 사용하고 싶을때 for반복문에서 몇번 루프를 돌지를 표시하기 위해 사용\n",
        "* 숫자 n을 input으로 받아서 0부터 n-1 까지의 리스트를 출력\n",
        "* `len()` : length의 줄임말. 괄호() 안에 있는 것의 개수(리스트의 경우 원소 개수, 문자열의 경우 글자 개수)를 출력"
      ],
      "metadata": {
        "id": "sXY1I2pDzS09"
      }
    },
    {
      "cell_type": "code",
      "source": [
        "number = range(15)\n",
        "print(list(number))              # number 의 list 들을 출력\n",
        "print(len(number))               # number 의 갯수를 출력"
      ],
      "metadata": {
        "colab": {
          "base_uri": "https://localhost:8080/"
        },
        "id": "GyKp271D1QI4",
        "outputId": "3592b073-cf18-4939-bd62-c92f13e173f3"
      },
      "execution_count": null,
      "outputs": [
        {
          "output_type": "stream",
          "name": "stdout",
          "text": [
            "[0, 1, 2, 3, 4, 5, 6, 7, 8, 9, 10, 11, 12, 13, 14]\n",
            "15\n"
          ]
        }
      ]
    },
    {
      "cell_type": "code",
      "source": [
        "for number in range(15) :\n",
        "  print(number)"
      ],
      "metadata": {
        "colab": {
          "base_uri": "https://localhost:8080/"
        },
        "id": "PCAdiDaT1b--",
        "outputId": "85d7aefd-4a05-49fa-a46a-f16da27d20f6"
      },
      "execution_count": null,
      "outputs": [
        {
          "output_type": "stream",
          "name": "stdout",
          "text": [
            "0\n",
            "1\n",
            "2\n",
            "3\n",
            "4\n",
            "5\n",
            "6\n",
            "7\n",
            "8\n",
            "9\n",
            "10\n",
            "11\n",
            "12\n",
            "13\n",
            "14\n"
          ]
        }
      ]
    },
    {
      "cell_type": "markdown",
      "source": [
        "### 4. while 반복문\n",
        "* 조건이 참일 동안 while을 실행\n",
        "* while 변수명 조건"
      ],
      "metadata": {
        "id": "Cj6Kuh9o48B1"
      }
    },
    {
      "cell_type": "code",
      "source": [
        "number = 20\n",
        "\n",
        "while number < 30 :       # number 가 30보다 작을 때 / number 가 30보다 크기전에 빠져나옴\n",
        "  print(number)           # number 을 출력\n",
        "  number += 1"
      ],
      "metadata": {
        "colab": {
          "base_uri": "https://localhost:8080/"
        },
        "id": "GPa0Gmhf6Ilm",
        "outputId": "07211bcd-69ff-45d7-a72c-432ef951cb4e"
      },
      "execution_count": null,
      "outputs": [
        {
          "output_type": "stream",
          "name": "stdout",
          "text": [
            "20\n",
            "21\n",
            "22\n",
            "23\n",
            "24\n",
            "25\n",
            "26\n",
            "27\n",
            "28\n",
            "29\n"
          ]
        }
      ]
    },
    {
      "cell_type": "code",
      "source": [
        "number = 1 \n",
        "sum = 0                  # 합은 0으로 정의\n",
        "\n",
        "while number <= 100 :\n",
        "  sum += number\n",
        "  number += 1\n",
        "\n",
        "print(sum)"
      ],
      "metadata": {
        "colab": {
          "base_uri": "https://localhost:8080/"
        },
        "id": "F1x688sY72CJ",
        "outputId": "145731dc-54fb-4710-a7a4-7673cf99fd89"
      },
      "execution_count": null,
      "outputs": [
        {
          "output_type": "stream",
          "name": "stdout",
          "text": [
            "5050\n"
          ]
        }
      ]
    },
    {
      "cell_type": "markdown",
      "source": [
        "## 5. 무한 루프 & break\n",
        "* 내가 원하는 시점에 반복문(for문, While)을 빠져나오는 코드"
      ],
      "metadata": {
        "id": "H_DMYCKi8JQX"
      }
    },
    {
      "cell_type": "markdown",
      "source": [
        "* while문 : 반복해서 문장을 수행해할 경우\n",
        "\n",
        "```\n",
        "while <조건문>\n",
        "  <수행할 문장1>\n",
        "  <수행할 문장1>\n",
        "  <수행할 문장1>\n",
        "  .\n",
        "  .\n",
        "  .\n",
        "```"
      ],
      "metadata": {
        "id": "ffjF0pyOP_3o"
      }
    },
    {
      "cell_type": "markdown",
      "source": [
        "* while문을 빠져나가는 방법 2가지\n",
        "1. 조건을 써주고 밑에 식을 써줌\n",
        "2. 조건 안쓰고 True를 써주고 안에 내용에서 나올 수 있게 함"
      ],
      "metadata": {
        "id": "VVRBMIhqSVbf"
      }
    },
    {
      "cell_type": "code",
      "source": [
        "number = 5\n",
        "sum = 0\n",
        "\n",
        "while True :                  # True 일때, 계속 돌아감\n",
        "  number += 5                 # number 에 5씩 더해 줌\n",
        "  if number > 50 :\n",
        "    break                     # 50보다 크면 그만 더해 줌, 빠져 나옴\n",
        "  sum += number               # 50보다 적으면 통과되서 계속 더해줌\n",
        "\n",
        "print(sum)                    # 50까지 sum한 값이 출력"
      ],
      "metadata": {
        "colab": {
          "base_uri": "https://localhost:8080/"
        },
        "id": "ZNQ5Hv9QOcBI",
        "outputId": "cf299691-6810-49a8-b698-cbbb35b956ad"
      },
      "execution_count": null,
      "outputs": [
        {
          "output_type": "stream",
          "name": "stdout",
          "text": [
            "270\n"
          ]
        }
      ]
    }
  ]
}